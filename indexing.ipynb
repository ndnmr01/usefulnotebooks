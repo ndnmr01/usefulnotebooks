{
 "cells": [
  {
   "cell_type": "code",
   "execution_count": 1,
   "metadata": {},
   "outputs": [],
   "source": [
    "import numpy as np\n",
    "import pprint as pp\n",
    "from IPython.display import display\n",
    "import tabulate"
   ]
  },
  {
   "cell_type": "markdown",
   "metadata": {},
   "source": [
    "# Original data"
   ]
  },
  {
   "cell_type": "code",
   "execution_count": 2,
   "metadata": {},
   "outputs": [],
   "source": [
    "N = 4\n",
    "steps = 5\n",
    "adata = np.arange(N * steps).reshape(N, steps)\n",
    "\n",
    "in_one = np.array([1, 1, 0, 0])\n",
    "in_two = np.array([0, 0, 0, 1])\n",
    "in_three = np.array([1, 0, 0, 0])"
   ]
  },
  {
   "cell_type": "markdown",
   "metadata": {},
   "source": [
    "# Produce conversion matrix"
   ]
  },
  {
   "cell_type": "code",
   "execution_count": 3,
   "metadata": {},
   "outputs": [],
   "source": [
    "needed_mask = in_one | in_two | in_three\n",
    "N_sim = sum(needed_mask)\n",
    "J = np.arange(N_sim * N_sim).reshape(N_sim, N_sim)\n",
    "needed_mask = needed_mask.astype(np.bool)\n",
    "collapse_convert = np.eye(N, dtype=np.bool)[..., needed_mask]"
   ]
  },
  {
   "cell_type": "code",
   "execution_count": 4,
   "metadata": {},
   "outputs": [
    {
     "data": {
      "text/plain": [
       "array([ True,  True, False,  True])"
      ]
     },
     "metadata": {},
     "output_type": "display_data"
    }
   ],
   "source": [
    "display(needed_mask)"
   ]
  },
  {
   "cell_type": "code",
   "execution_count": 5,
   "metadata": {},
   "outputs": [
    {
     "data": {
      "text/plain": [
       "array([[ True, False, False],\n",
       "       [False,  True, False],\n",
       "       [False, False, False],\n",
       "       [False, False,  True]])"
      ]
     },
     "metadata": {},
     "output_type": "display_data"
    }
   ],
   "source": [
    "display(collapse_convert)"
   ]
  },
  {
   "cell_type": "markdown",
   "metadata": {},
   "source": [
    "# Apply conversions"
   ]
  },
  {
   "cell_type": "code",
   "execution_count": 6,
   "metadata": {},
   "outputs": [],
   "source": [
    "collapsed = adata[needed_mask,...]"
   ]
  },
  {
   "cell_type": "code",
   "execution_count": 7,
   "metadata": {},
   "outputs": [
    {
     "name": "stdout",
     "output_type": "stream",
     "text": [
      "--------------------------  ----------------------------\n",
      "in_one                      array([1, 1, 0, 0])\n",
      "sim_in_one                  array([ True,  True, False])\n",
      "collapsed[sim_in_one, ...]  array([[0, 1, 2, 3, 4],\n",
      "                                   [5, 6, 7, 8, 9]])\n",
      "--------------------------  ----------------------------\n"
     ]
    }
   ],
   "source": [
    "sim_in_one = in_one @ collapse_convert\n",
    "sim_in_one = sim_in_one.astype(np.bool)\n",
    "table = []\n",
    "table.append(['in_one', pp.pformat(in_one)])\n",
    "table.append(['sim_in_one', pp.pformat(sim_in_one)])\n",
    "table.append(['collapsed[sim_in_one, ...]', pp.pformat(collapsed[sim_in_one, ...])])\n",
    "print(tabulate.tabulate(table))"
   ]
  },
  {
   "cell_type": "code",
   "execution_count": 8,
   "metadata": {},
   "outputs": [
    {
     "name": "stdout",
     "output_type": "stream",
     "text": [
      "--------------------------  -----------------------------\n",
      "in_two                      array([0, 0, 0, 1])\n",
      "sim_in_two                  array([False, False,  True])\n",
      "collapsed[sim_in_two, ...]  array([[15, 16, 17, 18, 19]])\n",
      "--------------------------  -----------------------------\n"
     ]
    }
   ],
   "source": [
    "sim_in_two = in_two @ collapse_convert\n",
    "sim_in_two = sim_in_two.astype(np.bool)\n",
    "table = []\n",
    "table.append(['in_two', pp.pformat(in_two)])\n",
    "table.append(['sim_in_two', pp.pformat(sim_in_two)])\n",
    "table.append(['collapsed[sim_in_two, ...]', pp.pformat(collapsed[sim_in_two, ...])])\n",
    "print(tabulate.tabulate(table))"
   ]
  },
  {
   "cell_type": "code",
   "execution_count": 9,
   "metadata": {},
   "outputs": [
    {
     "name": "stdout",
     "output_type": "stream",
     "text": [
      "----------------------------  ----------------------------\n",
      "in_three                      array([1, 0, 0, 0])\n",
      "sim_in_three                  array([ True, False, False])\n",
      "collapsed[sim_in_three, ...]  array([[0, 1, 2, 3, 4]])\n",
      "----------------------------  ----------------------------\n"
     ]
    }
   ],
   "source": [
    "sim_in_three = in_three @ collapse_convert\n",
    "sim_in_three = sim_in_three.astype(np.bool)\n",
    "table = []\n",
    "table.append(['in_three', pp.pformat(in_three)])\n",
    "table.append(['sim_in_three', pp.pformat(sim_in_three)])\n",
    "table.append(['collapsed[sim_in_three, ...]', pp.pformat(collapsed[sim_in_three, ...])])\n",
    "print(tabulate.tabulate(table))"
   ]
  },
  {
   "cell_type": "markdown",
   "metadata": {},
   "source": [
    "# Extracting weights\n",
    "\n",
    "This may look different in matlab, but the methods should be similar"
   ]
  },
  {
   "cell_type": "code",
   "execution_count": 10,
   "metadata": {},
   "outputs": [
    {
     "data": {
      "text/plain": [
       "array([[0, 1, 2],\n",
       "       [3, 4, 5],\n",
       "       [6, 7, 8]])"
      ]
     },
     "metadata": {},
     "output_type": "display_data"
    }
   ],
   "source": [
    "display(J)"
   ]
  },
  {
   "cell_type": "markdown",
   "metadata": {},
   "source": [
    "### Input weights to sim_in_one units"
   ]
  },
  {
   "cell_type": "code",
   "execution_count": 11,
   "metadata": {},
   "outputs": [
    {
     "data": {
      "text/plain": [
       "array([[0, 1, 2],\n",
       "       [3, 4, 5]])"
      ]
     },
     "metadata": {},
     "output_type": "display_data"
    }
   ],
   "source": [
    "display(J[sim_in_one, ...])"
   ]
  },
  {
   "cell_type": "markdown",
   "metadata": {},
   "source": [
    "### Output weights from sim_in_one units"
   ]
  },
  {
   "cell_type": "code",
   "execution_count": 12,
   "metadata": {},
   "outputs": [
    {
     "data": {
      "text/plain": [
       "array([[0, 1],\n",
       "       [3, 4],\n",
       "       [6, 7]])"
      ]
     },
     "metadata": {},
     "output_type": "display_data"
    }
   ],
   "source": [
    "display(J[..., sim_in_one])"
   ]
  },
  {
   "cell_type": "markdown",
   "metadata": {},
   "source": [
    "### Output weights from sim_in_one units to sim_in_two units"
   ]
  },
  {
   "cell_type": "code",
   "execution_count": 13,
   "metadata": {
    "scrolled": true
   },
   "outputs": [
    {
     "data": {
      "text/plain": [
       "array([[6, 7]])"
      ]
     },
     "metadata": {},
     "output_type": "display_data"
    }
   ],
   "source": [
    "display(J[..., sim_in_one][sim_in_two,...])"
   ]
  },
  {
   "cell_type": "markdown",
   "metadata": {},
   "source": [
    "### Input weights to sim_in_one units from sim_in_two units"
   ]
  },
  {
   "cell_type": "code",
   "execution_count": 14,
   "metadata": {},
   "outputs": [
    {
     "data": {
      "text/plain": [
       "array([[2],\n",
       "       [5]])"
      ]
     },
     "metadata": {},
     "output_type": "display_data"
    }
   ],
   "source": [
    "display(J[sim_in_one, ...][..., sim_in_two])"
   ]
  }
 ],
 "metadata": {
  "kernelspec": {
   "display_name": "Python 3",
   "language": "python",
   "name": "python3"
  },
  "language_info": {
   "codemirror_mode": {
    "name": "ipython",
    "version": 3
   },
   "file_extension": ".py",
   "mimetype": "text/x-python",
   "name": "python",
   "nbconvert_exporter": "python",
   "pygments_lexer": "ipython3",
   "version": "3.6.8"
  }
 },
 "nbformat": 4,
 "nbformat_minor": 2
}
