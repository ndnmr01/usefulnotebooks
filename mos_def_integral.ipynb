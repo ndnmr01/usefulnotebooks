{
 "cells": [
  {
   "cell_type": "code",
   "execution_count": 6,
   "metadata": {},
   "outputs": [],
   "source": [
    "import numpy"
   ]
  },
  {
   "cell_type": "code",
   "execution_count": 7,
   "metadata": {},
   "outputs": [],
   "source": [
    "def trap(func, a, b, n):\n",
    "    \"\"\"\n",
    "    https://en.wikipedia.org/wiki/Trapezoidal_rule#Uniform_grid\n",
    "    \"\"\"\n",
    "    delta = ( b - a ) / n\n",
    "    total = (func(a) + func(b)) / 2\n",
    "    for x in numpy.arange(a, b, delta):\n",
    "        total += func(x)\n",
    "    total *= delta\n",
    "    return total"
   ]
  },
  {
   "cell_type": "code",
   "execution_count": 8,
   "metadata": {},
   "outputs": [],
   "source": [
    "def onesided(func, a, b, n, broken=True):\n",
    "    \"\"\"\n",
    "    Naive implementation\n",
    "    \"\"\"\n",
    "    delta = ( b - a ) / n\n",
    "    total = 0\n",
    "    for x in numpy.arange(a, b + delta, delta):\n",
    "        total += func(x)\n",
    "    if broken is False:\n",
    "        total *= delta\n",
    "    return total"
   ]
  },
  {
   "cell_type": "code",
   "execution_count": 9,
   "metadata": {},
   "outputs": [],
   "source": [
    "def simple(x):\n",
    "    return x**2"
   ]
  },
  {
   "cell_type": "markdown",
   "metadata": {},
   "source": [
    "Integrate $x^2$ from 0 to 1."
   ]
  },
  {
   "cell_type": "code",
   "execution_count": 10,
   "metadata": {},
   "outputs": [
    {
     "name": "stdout",
     "output_type": "stream",
     "text": [
      "      1 0.500000 1.000000 1.000000\n",
      "      5 0.340000 2.200000 0.440000\n",
      "     10 0.335000 3.850000 0.385000\n",
      "     25 0.333600 8.840000 0.353600\n",
      "     50 0.333400 17.170000 0.343400\n",
      "    100 0.333350 33.835000 0.338350\n",
      "   1000 0.333333 333.833500 0.333833\n",
      "  10000 0.333333 3333.833350 0.333383\n",
      " 100000 0.333333 33333.833335 0.333338\n"
     ]
    }
   ],
   "source": [
    "for slices in [1, 5, 10, 25, 50, 100, 1000, 10000, 1e5]:\n",
    "    t_res = trap(simple, 0, 1, slices)\n",
    "    o_res = onesided(simple, 0, 1, slices)\n",
    "    o_works_res = onesided(simple, 0, 1, slices, broken=False)\n",
    "    print(\"%7d %f %f %f\"%(slices, t_res, o_res, o_works_res))"
   ]
  },
  {
   "cell_type": "code",
   "execution_count": null,
   "metadata": {},
   "outputs": [],
   "source": []
  }
 ],
 "metadata": {
  "kernelspec": {
   "display_name": "Python 3",
   "language": "python",
   "name": "python3"
  },
  "language_info": {
   "codemirror_mode": {
    "name": "ipython",
    "version": 3
   },
   "file_extension": ".py",
   "mimetype": "text/x-python",
   "name": "python",
   "nbconvert_exporter": "python",
   "pygments_lexer": "ipython3",
   "version": "3.6.8"
  }
 },
 "nbformat": 4,
 "nbformat_minor": 2
}
