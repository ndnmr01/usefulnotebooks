{
 "cells": [
  {
   "cell_type": "code",
   "execution_count": 1,
   "metadata": {},
   "outputs": [],
   "source": [
    "import numpy"
   ]
  },
  {
   "cell_type": "code",
   "execution_count": 2,
   "metadata": {},
   "outputs": [],
   "source": [
    "def trap(func, a, b, n):\n",
    "    \"\"\"\n",
    "    https://en.wikipedia.org/wiki/Trapezoidal_rule#Uniform_grid\n",
    "    \"\"\"\n",
    "    delta = ( b - a ) / n\n",
    "    total = (func(a) + func(b)) / 2\n",
    "    for x in numpy.arange(a, b, delta):\n",
    "        total += func(x)\n",
    "    total *= delta\n",
    "    return total"
   ]
  },
  {
   "cell_type": "code",
   "execution_count": 3,
   "metadata": {},
   "outputs": [],
   "source": [
    "def left_riemann(func, a, b, n, broken=True):\n",
    "    \"\"\"\n",
    "    Left sided Riemann\n",
    "    \"\"\"\n",
    "    delta = ( b - a ) / n\n",
    "    total = 0\n",
    "    for x in numpy.arange(a, b, delta):\n",
    "        total += func(x)\n",
    "    if broken is False:\n",
    "        total *= delta\n",
    "    return total"
   ]
  },
  {
   "cell_type": "code",
   "execution_count": 4,
   "metadata": {},
   "outputs": [],
   "source": [
    "def simple(x):\n",
    "    return x**2"
   ]
  },
  {
   "cell_type": "markdown",
   "metadata": {},
   "source": [
    "Integrate $x^2$ from 0 to 1."
   ]
  },
  {
   "cell_type": "code",
   "execution_count": 5,
   "metadata": {},
   "outputs": [
    {
     "name": "stdout",
     "output_type": "stream",
     "text": [
      "1       0.500000 0.000000 0.000000\n",
      "5       0.340000 1.200000 0.240000\n",
      "10      0.335000 2.850000 0.285000\n",
      "25      0.333600 7.840000 0.313600\n",
      "50      0.333400 16.170000 0.323400\n",
      "100     0.333350 32.835000 0.328350\n",
      "1000    0.333333 332.833500 0.332833\n",
      "10000   0.333333 3332.833350 0.333283\n",
      "100000  0.333333 33332.833335 0.333328\n"
     ]
    }
   ],
   "source": [
    "for slices in [1, 5, 10, 25, 50, 100, 1000, 10000, 1e5]:\n",
    "    t_res = trap(simple, 0, 1, slices)\n",
    "    o_res = left_riemann(simple, 0, 1, slices)\n",
    "    o_works_res = onesided(simple, 0, 1, slices, broken=False)\n",
    "    print(\"%-7d %f %f %f\"%(slices, t_res, o_res, o_works_res))"
   ]
  },
  {
   "cell_type": "code",
   "execution_count": null,
   "metadata": {},
   "outputs": [],
   "source": []
  }
 ],
 "metadata": {
  "kernelspec": {
   "display_name": "Python 3",
   "language": "python",
   "name": "python3"
  },
  "language_info": {
   "codemirror_mode": {
    "name": "ipython",
    "version": 3
   },
   "file_extension": ".py",
   "mimetype": "text/x-python",
   "name": "python",
   "nbconvert_exporter": "python",
   "pygments_lexer": "ipython3",
   "version": "3.6.8"
  }
 },
 "nbformat": 4,
 "nbformat_minor": 2
}
